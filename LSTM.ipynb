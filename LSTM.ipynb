{
 "cells": [
  {
   "cell_type": "code",
   "execution_count": 6,
   "metadata": {},
   "outputs": [],
   "source": [
    "import numpy as np\n",
    "import matplotlib.pyplot as plt\n",
    "import pandas as pd\n",
    "from sklearn.preprocessing import MinMaxScaler"
   ]
  },
  {
   "cell_type": "code",
   "execution_count": 7,
   "metadata": {},
   "outputs": [
    {
     "data": {
      "text/html": [
       "<div>\n",
       "<style scoped>\n",
       "    .dataframe tbody tr th:only-of-type {\n",
       "        vertical-align: middle;\n",
       "    }\n",
       "\n",
       "    .dataframe tbody tr th {\n",
       "        vertical-align: top;\n",
       "    }\n",
       "\n",
       "    .dataframe thead th {\n",
       "        text-align: right;\n",
       "    }\n",
       "</style>\n",
       "<table border=\"1\" class=\"dataframe\">\n",
       "  <thead>\n",
       "    <tr style=\"text-align: right;\">\n",
       "      <th></th>\n",
       "      <th>Date</th>\n",
       "      <th>Open</th>\n",
       "      <th>High</th>\n",
       "      <th>Low</th>\n",
       "      <th>Close</th>\n",
       "      <th>Adj Close</th>\n",
       "      <th>Volume</th>\n",
       "    </tr>\n",
       "  </thead>\n",
       "  <tbody>\n",
       "    <tr>\n",
       "      <th>4701</th>\n",
       "      <td>2023-04-24</td>\n",
       "      <td>106.050003</td>\n",
       "      <td>107.320000</td>\n",
       "      <td>105.360001</td>\n",
       "      <td>106.779999</td>\n",
       "      <td>106.779999</td>\n",
       "      <td>21410900</td>\n",
       "    </tr>\n",
       "    <tr>\n",
       "      <th>4702</th>\n",
       "      <td>2023-04-25</td>\n",
       "      <td>106.610001</td>\n",
       "      <td>107.440002</td>\n",
       "      <td>104.559998</td>\n",
       "      <td>104.610001</td>\n",
       "      <td>104.610001</td>\n",
       "      <td>31408100</td>\n",
       "    </tr>\n",
       "    <tr>\n",
       "      <th>4703</th>\n",
       "      <td>2023-04-26</td>\n",
       "      <td>105.559998</td>\n",
       "      <td>107.019997</td>\n",
       "      <td>103.269997</td>\n",
       "      <td>104.449997</td>\n",
       "      <td>104.449997</td>\n",
       "      <td>37068200</td>\n",
       "    </tr>\n",
       "    <tr>\n",
       "      <th>4704</th>\n",
       "      <td>2023-04-27</td>\n",
       "      <td>105.230003</td>\n",
       "      <td>109.150002</td>\n",
       "      <td>104.419998</td>\n",
       "      <td>108.370003</td>\n",
       "      <td>108.370003</td>\n",
       "      <td>38235200</td>\n",
       "    </tr>\n",
       "    <tr>\n",
       "      <th>4705</th>\n",
       "      <td>2023-04-28</td>\n",
       "      <td>107.800003</td>\n",
       "      <td>108.290001</td>\n",
       "      <td>106.040001</td>\n",
       "      <td>108.220001</td>\n",
       "      <td>108.220001</td>\n",
       "      <td>23945500</td>\n",
       "    </tr>\n",
       "  </tbody>\n",
       "</table>\n",
       "</div>"
      ],
      "text/plain": [
       "            Date        Open        High         Low       Close   Adj Close  \\\n",
       "4701  2023-04-24  106.050003  107.320000  105.360001  106.779999  106.779999   \n",
       "4702  2023-04-25  106.610001  107.440002  104.559998  104.610001  104.610001   \n",
       "4703  2023-04-26  105.559998  107.019997  103.269997  104.449997  104.449997   \n",
       "4704  2023-04-27  105.230003  109.150002  104.419998  108.370003  108.370003   \n",
       "4705  2023-04-28  107.800003  108.290001  106.040001  108.220001  108.220001   \n",
       "\n",
       "        Volume  \n",
       "4701  21410900  \n",
       "4702  31408100  \n",
       "4703  37068200  \n",
       "4704  38235200  \n",
       "4705  23945500  "
      ]
     },
     "execution_count": 7,
     "metadata": {},
     "output_type": "execute_result"
    }
   ],
   "source": [
    "data = pd.read_csv('GOOG.csv', date_parser = True)\n",
    "data.tail()"
   ]
  },
  {
   "cell_type": "code",
   "execution_count": 8,
   "metadata": {},
   "outputs": [],
   "source": [
    "data_training = data[data['Date']<'2022-06-01'].copy()\n",
    "data_test = data[data['Date']>='2022-06-01'].copy()"
   ]
  },
  {
   "cell_type": "code",
   "execution_count": 9,
   "metadata": {},
   "outputs": [],
   "source": [
    "data_training = data_training.drop(['Date', 'Adj Close'], axis = 1)"
   ]
  },
  {
   "cell_type": "code",
   "execution_count": 10,
   "metadata": {},
   "outputs": [
    {
     "data": {
      "text/plain": [
       "array([[1.35039790e-04, 3.86337794e-04, 0.00000000e+00, 5.54588186e-05,\n",
       "        5.43577158e-01],\n",
       "       [3.03427861e-04, 1.22230316e-03, 7.66630177e-04, 1.39474206e-03,\n",
       "        2.77885883e-01],\n",
       "       [1.92727230e-03, 1.95501646e-03, 2.21039746e-03, 1.57790459e-03,\n",
       "        2.22151354e-01],\n",
       "       ...,\n",
       "       [6.93339082e-01, 7.11533699e-01, 6.98981260e-01, 7.13847326e-01,\n",
       "        1.82528850e-02],\n",
       "       [7.18360328e-01, 7.37694336e-01, 7.26520746e-01, 7.44228274e-01,\n",
       "        1.80323690e-02],\n",
       "       [7.40386151e-01, 7.61533350e-01, 7.47012618e-01, 7.52594304e-01,\n",
       "        3.09834409e-02]])"
      ]
     },
     "execution_count": 10,
     "metadata": {},
     "output_type": "execute_result"
    }
   ],
   "source": [
    "scaler = MinMaxScaler()\n",
    "training = scaler.fit_transform(data_training)\n",
    "training"
   ]
  },
  {
   "cell_type": "code",
   "execution_count": 11,
   "metadata": {},
   "outputs": [],
   "source": [
    "X_train = []\n",
    "y_train = []\n",
    "\n",
    "for i in range(60, training.shape[0]):\n",
    "    X_train.append(training[i-60:i])\n",
    "    y_train.append(training[i, 0])\n",
    "    \n",
    "X_train, y_train = np.array(X_train), np.array(y_train)"
   ]
  },
  {
   "cell_type": "code",
   "execution_count": 12,
   "metadata": {},
   "outputs": [
    {
     "data": {
      "text/plain": [
       "(4417, 60, 5)"
      ]
     },
     "execution_count": 12,
     "metadata": {},
     "output_type": "execute_result"
    }
   ],
   "source": [
    "X_train.shape"
   ]
  },
  {
   "cell_type": "code",
   "execution_count": 13,
   "metadata": {},
   "outputs": [
    {
     "name": "stderr",
     "output_type": "stream",
     "text": [
      "2023-04-29 22:16:19.771090: I tensorflow/tsl/cuda/cudart_stub.cc:28] Could not find cuda drivers on your machine, GPU will not be used.\n",
      "2023-04-29 22:16:19.911674: I tensorflow/tsl/cuda/cudart_stub.cc:28] Could not find cuda drivers on your machine, GPU will not be used.\n",
      "2023-04-29 22:16:19.912932: I tensorflow/core/platform/cpu_feature_guard.cc:182] This TensorFlow binary is optimized to use available CPU instructions in performance-critical operations.\n",
      "To enable the following instructions: AVX2 FMA, in other operations, rebuild TensorFlow with the appropriate compiler flags.\n",
      "2023-04-29 22:16:21.587254: W tensorflow/compiler/tf2tensorrt/utils/py_utils.cc:38] TF-TRT Warning: Could not find TensorRT\n"
     ]
    }
   ],
   "source": [
    "from tensorflow.keras import Sequential\n",
    "from tensorflow.keras.layers import Dense, LSTM, Dropout"
   ]
  },
  {
   "cell_type": "code",
   "execution_count": 14,
   "metadata": {},
   "outputs": [],
   "source": [
    "regressor = Sequential()\n",
    "\n",
    "regressor.add(LSTM(units = 60, activation = 'relu', return_sequences = True, input_shape = (X_train.shape[1], 5)))\n",
    "regressor.add(Dropout(0.2))\n",
    "\n",
    "regressor.add(LSTM(units = 60, activation = 'relu', return_sequences = True))\n",
    "regressor.add(Dropout(0.2))\n",
    "\n",
    "regressor.add(LSTM(units = 80, activation = 'relu', return_sequences = True))\n",
    "regressor.add(Dropout(0.2))\n",
    "\n",
    "regressor.add(LSTM(units = 120, activation = 'relu'))\n",
    "regressor.add(Dropout(0.2))\n",
    "\n",
    "regressor.add(Dense(units = 1))"
   ]
  },
  {
   "cell_type": "code",
   "execution_count": 15,
   "metadata": {},
   "outputs": [
    {
     "name": "stdout",
     "output_type": "stream",
     "text": [
      "Model: \"sequential\"\n",
      "_________________________________________________________________\n",
      " Layer (type)                Output Shape              Param #   \n",
      "=================================================================\n",
      " lstm (LSTM)                 (None, 60, 60)            15840     \n",
      "                                                                 \n",
      " dropout (Dropout)           (None, 60, 60)            0         \n",
      "                                                                 \n",
      " lstm_1 (LSTM)               (None, 60, 60)            29040     \n",
      "                                                                 \n",
      " dropout_1 (Dropout)         (None, 60, 60)            0         \n",
      "                                                                 \n",
      " lstm_2 (LSTM)               (None, 60, 80)            45120     \n",
      "                                                                 \n",
      " dropout_2 (Dropout)         (None, 60, 80)            0         \n",
      "                                                                 \n",
      " lstm_3 (LSTM)               (None, 120)               96480     \n",
      "                                                                 \n",
      " dropout_3 (Dropout)         (None, 120)               0         \n",
      "                                                                 \n",
      " dense (Dense)               (None, 1)                 121       \n",
      "                                                                 \n",
      "=================================================================\n",
      "Total params: 186,601\n",
      "Trainable params: 186,601\n",
      "Non-trainable params: 0\n",
      "_________________________________________________________________\n"
     ]
    }
   ],
   "source": [
    "regressor.summary()"
   ]
  },
  {
   "cell_type": "code",
   "execution_count": 16,
   "metadata": {},
   "outputs": [
    {
     "name": "stdout",
     "output_type": "stream",
     "text": [
      "Epoch 1/20\n",
      "139/139 [==============================] - 26s 136ms/step - loss: 0.0083\n",
      "Epoch 2/20\n",
      "139/139 [==============================] - 19s 137ms/step - loss: 0.0016\n",
      "Epoch 3/20\n",
      "139/139 [==============================] - 19s 134ms/step - loss: 0.0012\n",
      "Epoch 4/20\n",
      "139/139 [==============================] - 19s 135ms/step - loss: 0.0014\n",
      "Epoch 5/20\n",
      "139/139 [==============================] - 19s 135ms/step - loss: 0.0010\n",
      "Epoch 6/20\n",
      "139/139 [==============================] - 19s 133ms/step - loss: 0.0011\n",
      "Epoch 7/20\n",
      "139/139 [==============================] - 19s 135ms/step - loss: 9.0481e-04\n",
      "Epoch 8/20\n",
      "139/139 [==============================] - 19s 134ms/step - loss: 8.5527e-04\n",
      "Epoch 9/20\n",
      "139/139 [==============================] - 19s 134ms/step - loss: 0.0010\n",
      "Epoch 10/20\n",
      "139/139 [==============================] - 19s 134ms/step - loss: 8.7138e-04\n",
      "Epoch 11/20\n",
      "139/139 [==============================] - 19s 134ms/step - loss: 8.1554e-04\n",
      "Epoch 12/20\n",
      "139/139 [==============================] - 19s 134ms/step - loss: 7.8950e-04\n",
      "Epoch 13/20\n",
      "139/139 [==============================] - 19s 136ms/step - loss: 7.8131e-04\n",
      "Epoch 14/20\n",
      "139/139 [==============================] - 19s 138ms/step - loss: 7.6520e-04\n",
      "Epoch 15/20\n",
      "139/139 [==============================] - 19s 134ms/step - loss: 6.4106e-04\n",
      "Epoch 16/20\n",
      "139/139 [==============================] - 19s 138ms/step - loss: 7.1154e-04\n",
      "Epoch 17/20\n",
      "139/139 [==============================] - 19s 136ms/step - loss: 0.0015\n",
      "Epoch 18/20\n",
      "139/139 [==============================] - 19s 138ms/step - loss: 6.2606e-04\n",
      "Epoch 19/20\n",
      "139/139 [==============================] - 19s 137ms/step - loss: 6.3483e-04\n",
      "Epoch 20/20\n",
      "139/139 [==============================] - 19s 140ms/step - loss: 7.9161e-04\n"
     ]
    },
    {
     "data": {
      "text/plain": [
       "<keras.callbacks.History at 0x7fc7405c0280>"
      ]
     },
     "execution_count": 16,
     "metadata": {},
     "output_type": "execute_result"
    }
   ],
   "source": [
    "regressor.compile(optimizer='adam', loss = 'mean_squared_error')\n",
    "regressor.fit(X_train, y_train, epochs=20, batch_size=32)\n"
   ]
  },
  {
   "cell_type": "code",
   "execution_count": 17,
   "metadata": {},
   "outputs": [
    {
     "data": {
      "text/html": [
       "<div>\n",
       "<style scoped>\n",
       "    .dataframe tbody tr th:only-of-type {\n",
       "        vertical-align: middle;\n",
       "    }\n",
       "\n",
       "    .dataframe tbody tr th {\n",
       "        vertical-align: top;\n",
       "    }\n",
       "\n",
       "    .dataframe thead th {\n",
       "        text-align: right;\n",
       "    }\n",
       "</style>\n",
       "<table border=\"1\" class=\"dataframe\">\n",
       "  <thead>\n",
       "    <tr style=\"text-align: right;\">\n",
       "      <th></th>\n",
       "      <th>Date</th>\n",
       "      <th>Open</th>\n",
       "      <th>High</th>\n",
       "      <th>Low</th>\n",
       "      <th>Close</th>\n",
       "      <th>Adj Close</th>\n",
       "      <th>Volume</th>\n",
       "    </tr>\n",
       "  </thead>\n",
       "  <tbody>\n",
       "    <tr>\n",
       "      <th>4477</th>\n",
       "      <td>2022-06-01</td>\n",
       "      <td>114.931503</td>\n",
       "      <td>117.399002</td>\n",
       "      <td>113.550499</td>\n",
       "      <td>114.137001</td>\n",
       "      <td>114.137001</td>\n",
       "      <td>28630000</td>\n",
       "    </tr>\n",
       "    <tr>\n",
       "      <th>4478</th>\n",
       "      <td>2022-06-02</td>\n",
       "      <td>114.188004</td>\n",
       "      <td>117.898003</td>\n",
       "      <td>113.307999</td>\n",
       "      <td>117.746002</td>\n",
       "      <td>117.746002</td>\n",
       "      <td>27472000</td>\n",
       "    </tr>\n",
       "    <tr>\n",
       "      <th>4479</th>\n",
       "      <td>2022-06-03</td>\n",
       "      <td>115.992500</td>\n",
       "      <td>116.364502</td>\n",
       "      <td>113.667999</td>\n",
       "      <td>114.564003</td>\n",
       "      <td>114.564003</td>\n",
       "      <td>25052000</td>\n",
       "    </tr>\n",
       "    <tr>\n",
       "      <th>4480</th>\n",
       "      <td>2022-06-06</td>\n",
       "      <td>116.742500</td>\n",
       "      <td>119.398499</td>\n",
       "      <td>116.528297</td>\n",
       "      <td>117.010498</td>\n",
       "      <td>117.010498</td>\n",
       "      <td>23786000</td>\n",
       "    </tr>\n",
       "    <tr>\n",
       "      <th>4481</th>\n",
       "      <td>2022-06-07</td>\n",
       "      <td>115.648003</td>\n",
       "      <td>117.748650</td>\n",
       "      <td>115.125504</td>\n",
       "      <td>117.229500</td>\n",
       "      <td>117.229500</td>\n",
       "      <td>26414000</td>\n",
       "    </tr>\n",
       "  </tbody>\n",
       "</table>\n",
       "</div>"
      ],
      "text/plain": [
       "            Date        Open        High         Low       Close   Adj Close  \\\n",
       "4477  2022-06-01  114.931503  117.399002  113.550499  114.137001  114.137001   \n",
       "4478  2022-06-02  114.188004  117.898003  113.307999  117.746002  117.746002   \n",
       "4479  2022-06-03  115.992500  116.364502  113.667999  114.564003  114.564003   \n",
       "4480  2022-06-06  116.742500  119.398499  116.528297  117.010498  117.010498   \n",
       "4481  2022-06-07  115.648003  117.748650  115.125504  117.229500  117.229500   \n",
       "\n",
       "        Volume  \n",
       "4477  28630000  \n",
       "4478  27472000  \n",
       "4479  25052000  \n",
       "4480  23786000  \n",
       "4481  26414000  "
      ]
     },
     "execution_count": 17,
     "metadata": {},
     "output_type": "execute_result"
    }
   ],
   "source": [
    "data_test.head()"
   ]
  },
  {
   "cell_type": "code",
   "execution_count": 18,
   "metadata": {},
   "outputs": [],
   "source": [
    "past_60_days = data_training.tail(60)"
   ]
  },
  {
   "cell_type": "code",
   "execution_count": 19,
   "metadata": {},
   "outputs": [
    {
     "name": "stderr",
     "output_type": "stream",
     "text": [
      "/tmp/ipykernel_18160/245460817.py:1: FutureWarning: The frame.append method is deprecated and will be removed from pandas in a future version. Use pandas.concat instead.\n",
      "  df = past_60_days.append(data_test, ignore_index = True)\n"
     ]
    },
    {
     "data": {
      "text/html": [
       "<div>\n",
       "<style scoped>\n",
       "    .dataframe tbody tr th:only-of-type {\n",
       "        vertical-align: middle;\n",
       "    }\n",
       "\n",
       "    .dataframe tbody tr th {\n",
       "        vertical-align: top;\n",
       "    }\n",
       "\n",
       "    .dataframe thead th {\n",
       "        text-align: right;\n",
       "    }\n",
       "</style>\n",
       "<table border=\"1\" class=\"dataframe\">\n",
       "  <thead>\n",
       "    <tr style=\"text-align: right;\">\n",
       "      <th></th>\n",
       "      <th>Open</th>\n",
       "      <th>High</th>\n",
       "      <th>Low</th>\n",
       "      <th>Close</th>\n",
       "      <th>Volume</th>\n",
       "    </tr>\n",
       "  </thead>\n",
       "  <tbody>\n",
       "    <tr>\n",
       "      <th>0</th>\n",
       "      <td>131.904007</td>\n",
       "      <td>131.904007</td>\n",
       "      <td>126.410004</td>\n",
       "      <td>126.464500</td>\n",
       "      <td>39178000</td>\n",
       "    </tr>\n",
       "    <tr>\n",
       "      <th>1</th>\n",
       "      <td>126.250504</td>\n",
       "      <td>131.246506</td>\n",
       "      <td>125.860748</td>\n",
       "      <td>127.278503</td>\n",
       "      <td>35250000</td>\n",
       "    </tr>\n",
       "    <tr>\n",
       "      <th>2</th>\n",
       "      <td>131.399994</td>\n",
       "      <td>134.198502</td>\n",
       "      <td>130.087997</td>\n",
       "      <td>133.865997</td>\n",
       "      <td>32258000</td>\n",
       "    </tr>\n",
       "    <tr>\n",
       "      <th>3</th>\n",
       "      <td>131.462494</td>\n",
       "      <td>133.538498</td>\n",
       "      <td>131.401001</td>\n",
       "      <td>132.682007</td>\n",
       "      <td>24266000</td>\n",
       "    </tr>\n",
       "    <tr>\n",
       "      <th>4</th>\n",
       "      <td>133.999496</td>\n",
       "      <td>134.199997</td>\n",
       "      <td>130.296494</td>\n",
       "      <td>130.475494</td>\n",
       "      <td>26600000</td>\n",
       "    </tr>\n",
       "  </tbody>\n",
       "</table>\n",
       "</div>"
      ],
      "text/plain": [
       "         Open        High         Low       Close    Volume\n",
       "0  131.904007  131.904007  126.410004  126.464500  39178000\n",
       "1  126.250504  131.246506  125.860748  127.278503  35250000\n",
       "2  131.399994  134.198502  130.087997  133.865997  32258000\n",
       "3  131.462494  133.538498  131.401001  132.682007  24266000\n",
       "4  133.999496  134.199997  130.296494  130.475494  26600000"
      ]
     },
     "execution_count": 19,
     "metadata": {},
     "output_type": "execute_result"
    }
   ],
   "source": [
    "df = past_60_days.append(data_test, ignore_index = True)\n",
    "df = df.drop(['Date', 'Adj Close'], axis = 1)\n",
    "df.head()"
   ]
  },
  {
   "cell_type": "code",
   "execution_count": 20,
   "metadata": {},
   "outputs": [
    {
     "data": {
      "text/plain": [
       "array([[0.8663961 , 0.86496932, 0.84082781, 0.83642685, 0.02363856],\n",
       "       [0.82855294, 0.86057326, 0.83710398, 0.84191877, 0.02125893],\n",
       "       [0.86302236, 0.88031034, 0.86576379, 0.88636338, 0.01944634],\n",
       "       ...,\n",
       "       [0.69005579, 0.69859455, 0.6839437 , 0.68789907, 0.02236042],\n",
       "       [0.68784688, 0.71283579, 0.69174045, 0.71434662, 0.0230674 ],\n",
       "       [0.70504983, 0.70708581, 0.70272371, 0.71333459, 0.01441052]])"
      ]
     },
     "execution_count": 20,
     "metadata": {},
     "output_type": "execute_result"
    }
   ],
   "source": [
    "inputs = scaler.transform(df)\n",
    "inputs"
   ]
  },
  {
   "cell_type": "code",
   "execution_count": 21,
   "metadata": {},
   "outputs": [
    {
     "data": {
      "text/plain": [
       "((229, 60, 5), (229,))"
      ]
     },
     "execution_count": 21,
     "metadata": {},
     "output_type": "execute_result"
    }
   ],
   "source": [
    "X_test = []\n",
    "y_test = []\n",
    "\n",
    "for i in range(60, inputs.shape[0]):\n",
    "    X_test.append(inputs[i-60:i])\n",
    "    y_test.append(inputs[i, 0])\n",
    "\n",
    "X_test, y_test = np.array(X_test), np.array(y_test)\n",
    "X_test.shape, y_test.shape"
   ]
  },
  {
   "cell_type": "code",
   "execution_count": 22,
   "metadata": {},
   "outputs": [
    {
     "name": "stdout",
     "output_type": "stream",
     "text": [
      "8/8 [==============================] - 2s 53ms/step\n"
     ]
    }
   ],
   "source": [
    "y_pred = regressor.predict(X_test)"
   ]
  },
  {
   "cell_type": "code",
   "execution_count": 23,
   "metadata": {},
   "outputs": [
    {
     "data": {
      "text/plain": [
       "array([6.69375383e-03, 6.68601135e-03, 6.77977800e-03, 6.74681491e-03,\n",
       "       6.05813073e-10])"
      ]
     },
     "execution_count": 23,
     "metadata": {},
     "output_type": "execute_result"
    }
   ],
   "source": [
    "scaler.scale_"
   ]
  },
  {
   "cell_type": "code",
   "execution_count": 57,
   "metadata": {},
   "outputs": [
    {
     "data": {
      "text/plain": [
       "149.39300509053825"
      ]
     },
     "execution_count": 57,
     "metadata": {},
     "output_type": "execute_result"
    }
   ],
   "source": [
    "scale = 1/6.69375383e-03\n",
    "scale"
   ]
  },
  {
   "cell_type": "code",
   "execution_count": 58,
   "metadata": {},
   "outputs": [],
   "source": [
    "y_pred = y_pred*scale\n",
    "y_test = y_test*scale"
   ]
  },
  {
   "attachments": {},
   "cell_type": "markdown",
   "metadata": {},
   "source": [
    "#### Calculation of Error"
   ]
  },
  {
   "cell_type": "code",
   "execution_count": 59,
   "metadata": {},
   "outputs": [
    {
     "data": {
      "text/plain": [
       "array([3.6016958], dtype=float32)"
      ]
     },
     "execution_count": 59,
     "metadata": {},
     "output_type": "execute_result"
    }
   ],
   "source": [
    "error = 0\n",
    "length = len(y_pred)\n",
    "\n",
    "for i in range(length):\n",
    "    error = abs(y_test[i] - y_pred[i])/(y_test[i])\n",
    "\n",
    "error = error/length\n",
    "error = error*100*scale\n",
    "error"
   ]
  },
  {
   "attachments": {},
   "cell_type": "markdown",
   "metadata": {},
   "source": [
    "#### calculation of f1-score"
   ]
  },
  {
   "cell_type": "code",
   "execution_count": 60,
   "metadata": {},
   "outputs": [],
   "source": [
    "from sklearn.metrics import f1_score"
   ]
  },
  {
   "cell_type": "code",
   "execution_count": 61,
   "metadata": {},
   "outputs": [],
   "source": [
    "def calculate_f1_score(actual_prices, predicted_prices):\n",
    "    # Convert the price arrays into binary labels (1: increase, 0: decrease)\n",
    "    actual_labels = [1 if actual_prices[i+1] > actual_prices[i] else 0 for i in range(len(actual_prices) - 1)]\n",
    "    predicted_labels = [1 if predicted_prices[i+1] > predicted_prices[i] else 0 for i in range(len(predicted_prices) - 1)]\n",
    "    \n",
    "    # Calculate the F1-score\n",
    "    f1 = f1_score(actual_labels, predicted_labels)\n",
    "    return f1"
   ]
  },
  {
   "cell_type": "code",
   "execution_count": 62,
   "metadata": {},
   "outputs": [
    {
     "name": "stdout",
     "output_type": "stream",
     "text": [
      "F1-score: 0.46846846846846846\n"
     ]
    }
   ],
   "source": [
    "f1_score = calculate_f1_score(y_test, y_pred)\n",
    "print(\"F1-score:\", f1_score)"
   ]
  },
  {
   "cell_type": "code",
   "execution_count": 101,
   "metadata": {},
   "outputs": [
    {
     "data": {
      "image/png": "[encoded data removed]",
      "text/plain": [
       "<Figure size 1400x500 with 1 Axes>"
      ]
     },
     "metadata": {},
     "output_type": "display_data"
    }
   ],
   "source": [
    "# Visualising the results\n",
    "plt.figure(figsize=(14,5))\n",
    "plt.plot(y_test, color = 'red', label = 'Real Google Stock Price')\n",
    "plt.plot(y_pred, color = 'blue', label = 'Predicted Google Stock Price')\n",
    "plt.title('Google Stock Price Prediction')\n",
    "plt.xlabel('Time')\n",
    "plt.ylabel('Google Stock Price')\n",
    "plt.legend()\n",
    "plt.show()"
   ]
  },
  {
   "cell_type": "code",
   "execution_count": null,
   "metadata": {},
   "outputs": [],
   "source": []
  },
  {
   "cell_type": "code",
   "execution_count": null,
   "metadata": {},
   "outputs": [],
   "source": []
  }
 ],
 "metadata": {
  "kernelspec": {
   "display_name": "base",
   "language": "python",
   "name": "python3"
  },
  "language_info": {
   "codemirror_mode": {
    "name": "ipython",
    "version": 3
   },
   "file_extension": ".py",
   "mimetype": "text/x-python",
   "name": "python",
   "nbconvert_exporter": "python",
   "pygments_lexer": "ipython3",
   "version": "3.10.8"
  },
  "orig_nbformat": 4
 },
 "nbformat": 4,
 "nbformat_minor": 2
}
